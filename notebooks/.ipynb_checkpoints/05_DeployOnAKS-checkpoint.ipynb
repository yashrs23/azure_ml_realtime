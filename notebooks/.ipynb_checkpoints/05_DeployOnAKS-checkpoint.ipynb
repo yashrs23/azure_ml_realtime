{
 "cells": [
  {
   "cell_type": "markdown",
   "metadata": {},
   "source": [
    "Copyright (c) Microsoft Corporation. All rights reserved.\n",
    "\n",
    "Licensed under the MIT License."
   ]
  },
  {
   "cell_type": "markdown",
   "metadata": {},
   "source": [
    "# Deploying a web service to Azure Kubernetes Service (AKS)\n",
    "In this notebook, we show the following steps for deploying a web service using AzureML:\n",
    "- Provision an AKS cluster (one time action)\n",
    "- Deploy the service\n",
    "- Test the web service\n",
    "- Scale up the service"
   ]
  },
  {
   "cell_type": "code",
   "execution_count": null,
   "metadata": {
    "pycharm": {
     "name": "#%%\n"
    }
   },
   "outputs": [],
   "source": [
    "from azure_utils.machine_learning.realtime.kubernetes import get_or_create_aks_service"
   ]
  },
  {
   "cell_type": "markdown",
   "metadata": {},
   "source": [
    "AML will use the following information to create an image, provision a cluster and deploy a service. Replace the \n",
    "values in the following cell with your information."
   ]
  },
  {
   "cell_type": "code",
   "execution_count": null,
   "metadata": {
    "pycharm": {
     "name": "#%%\n"
    }
   },
   "outputs": [],
   "source": [
    "aks_service = get_or_create_aks_service()\n"
   ]
  },
  {
   "cell_type": "code",
   "execution_count": 1,
   "metadata": {},
   "outputs": [],
   "source": [
    "from azureml.core.authentication import MsiAuthentication\n",
    "from azureml.core import Workspace\n",
    "\n",
    "msi_auth = MsiAuthentication()\n",
    "ws = Workspace(subscription_id=\"109e56d8-d599-4905-ab89-be3f6c7e1662\",\n",
    "               resource_group=\"trial2\",\n",
    "               workspace_name=\"experiment2ml\",\n",
    "               auth=msi_auth)"
   ]
  },
  {
   "cell_type": "code",
   "execution_count": null,
   "metadata": {},
   "outputs": [
    {
     "name": "stdout",
     "output_type": "stream",
     "text": [
      "Creating....."
     ]
    }
   ],
   "source": [
    "from azureml.core.compute import AksCompute, ComputeTarget\n",
    "\n",
    "# Use the default configuration (you can also provide parameters to customize this).\n",
    "# For example, to create a dev/test cluster, use:\n",
    "# prov_config = AksCompute.provisioning_configuration(cluster_purpose = AksCompute.ClusterPurpose.DEV_TEST)\n",
    "prov_config = AksCompute.provisioning_configuration()\n",
    "\n",
    "aks_name = 'myaks'\n",
    "# Create the cluster\n",
    "aks_target = ComputeTarget.create(workspace = ws,\n",
    "                                    name = aks_name,\n",
    "                                    provisioning_configuration = prov_config)\n",
    "\n",
    "# Wait for the create process to complete\n",
    "aks_target.wait_for_completion(show_output = True)"
   ]
  },
  {
   "cell_type": "code",
   "execution_count": null,
   "metadata": {},
   "outputs": [],
   "source": []
  },
  {
   "cell_type": "code",
   "execution_count": null,
   "metadata": {},
   "outputs": [],
   "source": []
  },
  {
   "cell_type": "markdown",
   "metadata": {},
   "source": [
    "Next, we will test the [throughput of the web service](06_SpeedTestWebApp.ipynb)."
   ]
  }
 ],
 "metadata": {
  "authors": [
   {
    "name": "raymondl"
   }
  ],
  "celltoolbar": "Tags",
  "kernelspec": {
   "display_name": "az-ml-realtime-score",
   "language": "python",
   "name": "conda-env-az-ml-realtime-score-py"
  },
  "language_info": {
   "codemirror_mode": {
    "name": "ipython",
    "version": 3
   },
   "file_extension": ".py",
   "mimetype": "text/x-python",
   "name": "python",
   "nbconvert_exporter": "python",
   "pygments_lexer": "ipython3",
   "version": "3.6.2"
  },
  "pycharm": {
   "stem_cell": {
    "cell_type": "raw",
    "metadata": {
     "collapsed": false
    },
    "source": []
   }
  }
 },
 "nbformat": 4,
 "nbformat_minor": 2
}
