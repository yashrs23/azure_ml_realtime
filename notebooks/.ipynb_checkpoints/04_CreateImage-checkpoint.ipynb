{
 "cells": [
  {
   "cell_type": "markdown",
   "metadata": {},
   "source": [
    "Copyright (c) Microsoft Corporation. All rights reserved.\n",
    "\n",
    "Licensed under the MIT License.\n",
    "\n",
    "# Create Image\n",
    "In this notebook, we show the following steps for deploying a web service using AzureML:\n",
    "- Create an image\n",
    "- Test image locally"
   ]
  },
  {
   "cell_type": "code",
   "execution_count": null,
   "metadata": {},
   "outputs": [],
   "source": [
    "from azure_utils.machine_learning.realtime.image import get_or_create_image, lightgbm_test_image_locally, get_model\n",
    "#from notebooks import directory\n",
    "direct"
   ]
  },
  {
   "cell_type": "markdown",
   "metadata": {
    "pycharm": {
     "name": "#%% md\n"
    }
   },
   "source": [
    "AML will use the following information to create an image, provision a cluster and deploy a service. Replace the \n",
    "values in the following cell with your information."
   ]
  },
  {
   "cell_type": "markdown",
   "metadata": {},
   "source": [
    "## Create an image\n",
    "We will now modify the `score.py` created in the previous notebook for the `init()` function to use the model we \n",
    "registered to the workspace earlier."
   ]
  },
  {
   "cell_type": "code",
   "execution_count": null,
   "metadata": {},
   "outputs": [],
   "source": [
    "%%writefile score.py\n",
    "\n",
    "import sys\n",
    "import json\n",
    "import logging\n",
    "import timeit as t\n",
    "from azureml.core.model import Model\n",
    "from azureml.contrib.services.aml_request import rawhttp\n",
    "from azureml.contrib.services.aml_response import AMLResponse\n",
    "from azure_utils.machine_learning.duplicate_model import DuplicateModel\n",
    "\n",
    "sys.path.append('./scripts/')\n",
    "\n",
    "\n",
    "def init():\n",
    "    logger = logging.getLogger(\"scoring_script\")\n",
    "    global model\n",
    "    model_name = 'question_match_model'\n",
    "    model_path = Model.get_model_path(model_name)\n",
    "    questions_path = './notebooks/data_folder/questions.tsv'\n",
    "    start = t.default_timer()\n",
    "    model = DuplicateModel(model_path, questions_path)\n",
    "    end = t.default_timer()\n",
    "    load_time_msg = \"Model loading time: {0} ms\".format(\n",
    "        round((end - start) * 1000, 2))\n",
    "    logger.info(load_time_msg)\n",
    "\n",
    "\n",
    "@rawhttp\n",
    "def run(request):\n",
    "    \"\"\"\n",
    "    Function runs on each request\n",
    "    \"\"\"\n",
    "    body = request.data\n",
    "    if request.method == 'POST':\n",
    "        logger = logging.getLogger(\"scoring_script\")\n",
    "        json_load_text = json.loads(body)\n",
    "        text_to_score = json_load_text['input']\n",
    "        start = t.default_timer()\n",
    "        resp = model.score(text_to_score)\n",
    "        end = t.default_timer()\n",
    "        logger.info(\"Prediction took {0} ms\".format(\n",
    "            round((end - start) * 1000, 2)))\n",
    "        return json.dumps(resp)\n",
    "    if request.method == 'GET':\n",
    "        resp_body = {\n",
    "            \"azEnvironment\": \"Azure\",\n",
    "            \"location\": \"westus2\",\n",
    "            \"osType\": \"Ubuntu 16.04\",\n",
    "            \"resourceGroupName\": \"\",\n",
    "            \"resourceId\": \"\",\n",
    "            \"sku\": \"\",\n",
    "            \"subscriptionId\": \"\",\n",
    "            \"uniqueId\": \"PythonMLRST\",\n",
    "            \"vmSize\": \"\",\n",
    "            \"zone\": \"\",\n",
    "            \"isServer\": False,\n",
    "            \"version\": \"\"\n",
    "        }\n",
    "        return resp_body\n",
    "    return AMLResponse(\"bad request\", 500)"
   ]
  },
  {
   "cell_type": "markdown",
   "metadata": {},
   "source": [
    "Let's specify the conda and pip dependencies for the image."
   ]
  },
  {
   "cell_type": "code",
   "execution_count": null,
   "metadata": {},
   "outputs": [],
   "source": [
    "dependencies = [\"./notebooks/data_folder/questions.tsv\"]\n",
    "models = [get_model(model_name='question_match_model')]\n",
    "\n",
    "image = get_or_create_image(models=models, dependencies=dependencies)"
   ]
  },
  {
   "cell_type": "markdown",
   "metadata": {},
   "source": [
    "## Test image locally"
   ]
  },
  {
   "cell_type": "markdown",
   "metadata": {},
   "source": [
    "Now, let's use one of the duplicate questions to test our image."
   ]
  },
  {
   "cell_type": "code",
   "execution_count": null,
   "metadata": {},
   "outputs": [],
   "source": [
    "lightgbm_test_image_locally(image, directory)"
   ]
  },
  {
   "cell_type": "markdown",
   "metadata": {
    "pycharm": {
     "name": "#%% md\n"
    }
   },
   "source": [
    "## Conclusion\n",
    "\n",
    "We can now move on to [Deploy on Azure Kubernetes Service](05_DeployOnAKS.ipynb) notebook. "
   ]
  }
 ],
 "metadata": {
  "authors": [
   {
    "name": "raymondl"
   }
  ],
  "kernelspec": {
   "display_name": "az-ml-realtime-score",
   "language": "python",
   "name": "conda-env-az-ml-realtime-score-py"
  },
  "language_info": {
   "codemirror_mode": {
    "name": "ipython",
    "version": 3
   },
   "file_extension": ".py",
   "mimetype": "text/x-python",
   "name": "python",
   "nbconvert_exporter": "python",
   "pygments_lexer": "ipython3",
   "version": "3.6.2"
  },
  "pycharm": {
   "stem_cell": {
    "cell_type": "raw",
    "metadata": {
     "collapsed": false
    },
    "source": []
   }
  }
 },
 "nbformat": 4,
 "nbformat_minor": 2
}
