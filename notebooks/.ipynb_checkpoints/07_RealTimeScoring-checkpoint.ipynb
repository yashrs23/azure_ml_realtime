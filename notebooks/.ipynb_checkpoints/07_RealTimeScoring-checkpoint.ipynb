{
 "cells": [
  {
   "cell_type": "markdown",
   "metadata": {},
   "source": [
    "\n",
    "Copyright (c) Microsoft Corporation. All rights reserved.\n",
    "\n",
    "Licensed under the MIT License."
   ]
  },
  {
   "cell_type": "markdown",
   "metadata": {
    "extensions": {
     "jupyter_dashboards": {
      "version": 1,
      "views": {
       "grid_default": {},
       "report_default": {
        "hidden": false
       }
      }
     }
    }
   },
   "source": [
    "# Explore Duplicate Question Matches\n",
    "Use this dashboard to explore the relationship between duplicate and original questions."
   ]
  },
  {
   "cell_type": "markdown",
   "metadata": {
    "extensions": {
     "jupyter_dashboards": {
      "version": 1,
      "views": {
       "grid_default": {},
       "report_default": {
        "hidden": true
       }
      }
     }
    }
   },
   "source": [
    "## Setup\n",
    "This section loads needed packages, and defines useful functions."
   ]
  },
  {
   "cell_type": "code",
   "execution_count": null,
   "metadata": {
    "extensions": {
     "jupyter_dashboards": {
      "version": 1,
      "views": {
       "grid_default": {},
       "report_default": {
        "hidden": true
       }
      }
     }
    }
   },
   "outputs": [],
   "source": [
    "from __future__ import print_function\n",
    "\n",
    "import math\n",
    "\n",
    "import ipywidgets as widgets\n",
    "import pandas as pd\n",
    "import requests\n",
    "from azure_utils.configuration.project_configuration import ProjectConfiguration\n",
    "from azure_utils.machine_learning.utils import get_workspace_from_config\n",
    "from azure_utils.utilities import read_questions, text_to_json\n",
    "from azureml.core.webservice import AksWebservice\n",
    "\n",
    "from notebooks import directory"
   ]
  },
  {
   "cell_type": "code",
   "execution_count": null,
   "metadata": {},
   "outputs": [],
   "source": [
    "ws = get_workspace_from_config()\n",
    "print(ws.name, ws.resource_group, ws.location, sep=\"\\n\")"
   ]
  },
  {
   "cell_type": "code",
   "execution_count": null,
   "metadata": {},
   "outputs": [],
   "source": [
    "project_configuration = ProjectConfiguration(\"project.yml\")\n",
    "aks_service_name = project_configuration.get_settings('aks_service_name')\n",
    "aks_service = AksWebservice(ws, name=aks_service_name)\n"
   ]
  },
  {
   "cell_type": "markdown",
   "metadata": {},
   "source": [
    "Load the duplicate questions scoring app's URL."
   ]
  },
  {
   "cell_type": "code",
   "execution_count": null,
   "metadata": {},
   "outputs": [],
   "source": [
    "scoring_url = aks_service.scoring_uri\n",
    "api_key = aks_service.get_keys()[0]"
   ]
  },
  {
   "cell_type": "markdown",
   "metadata": {
    "extensions": {
     "jupyter_dashboards": {
      "version": 1,
      "views": {
       "grid_default": {},
       "report_default": {
        "hidden": true
       }
      }
     }
    }
   },
   "source": [
    "A constructor function for ID-text contents. Constructs buttons and text areas for each text ID and text passage.\n",
    "* Each buttons's description is set to a text's ID, and its click action is set to the handler.\n",
    "* Each text area's content is set to a text.\n",
    "* A dictionary is created to map IDs to text areas."
   ]
  },
  {
   "cell_type": "code",
   "execution_count": null,
   "metadata": {
    "extensions": {
     "jupyter_dashboards": {
      "version": 1,
      "views": {
       "grid_default": {},
       "report_default": {
        "hidden": true
       }
      }
     }
    }
   },
   "outputs": [],
   "source": [
    "def buttons_and_texts(data,\n",
    "                      text_id,\n",
    "                      answerid,\n",
    "                      text,\n",
    "                      handle_click,\n",
    "                      layout=widgets.Layout(width=\"100%\"),\n",
    "                      num=15):\n",
    "    \"\"\"Construct buttons, text areas, and a mapping from IDs to text areas.\"\"\"\n",
    "    items = []\n",
    "    text_map = {}\n",
    "    for i in range(min(num, len(data))):\n",
    "        button = widgets.Button(description=data.iloc[i][text_id])\n",
    "        button.answerid = data.iloc[i][answerid] if answerid in data else None\n",
    "        button.open = False\n",
    "        button.on_click(handle_click)\n",
    "        items.append(button)\n",
    "        text_area = widgets.Textarea(data.iloc[i][text],\n",
    "                                     placeholder=data.iloc[i][id],\n",
    "                                     layout=layout)\n",
    "        items.append(text_area)\n",
    "        text_map[data.iloc[i][id]] = text_area\n",
    "    return items, text_map"
   ]
  },
  {
   "cell_type": "markdown",
   "metadata": {
    "extensions": {
     "jupyter_dashboards": {
      "version": 1,
      "views": {
       "grid_default": {},
       "report_default": {
        "hidden": true
       }
      }
     }
    }
   },
   "source": [
    "A constructor function for the duplicates and questions explorer widget. This builds a box containing duplicates and \n",
    "question tabs, each in turn containing boxes that contain the buttons and text areas."
   ]
  },
  {
   "cell_type": "code",
   "execution_count": null,
   "metadata": {
    "extensions": {
     "jupyter_dashboards": {
      "version": 1,
      "views": {
       "grid_default": {},
       "report_default": {
        "hidden": true
       }
      }
     }
    }
   },
   "outputs": [],
   "source": [
    "def duplicates_questions_widget( layout=widgets.Layout(width=\"100%\")):\n",
    "    \"\"\"Construct a duplicates and questions exploration widget.\"\"\"\n",
    "    # Construct the duplicates Tab of buttons and text areas.\n",
    "    duplicates_items, duplicates_map_inner = buttons_and_texts(\n",
    "        duplicates,\n",
    "        duplicates_id,\n",
    "        duplicates_answerid,\n",
    "        duplicates_click\n",
    "    )\n",
    "    duplicates_tab = widgets.Tab(\n",
    "        [widgets.VBox(duplicates_items, layout=layout)],\n",
    "        layout=widgets.Layout(width=\"100%\", height=\"500px\", overflow_y=\"auto\"),\n",
    "    )\n",
    "    duplicates_tab.set_title(0, duplicates_title)\n",
    "    # Construct the questions Tab of buttons and text areas.\n",
    "    questions_items, questions_map_inner = buttons_and_texts(\n",
    "        questions,\n",
    "        questions_id,\n",
    "        questions_answerid,\n",
    "        questions_text,\n",
    "        questions_click\n",
    "    )\n",
    "    questions_tab = widgets.Tab(\n",
    "        [widgets.VBox(questions_items, layout=layout)],\n",
    "        layout=widgets.Layout(width=\"100%\", height=\"500px\", overflow_y=\"auto\"),\n",
    "    )\n",
    "    questions_tab.set_title(0, questions_title)\n",
    "    # Put both tabs in an HBox.\n",
    "    duplicates_questions_inner = widgets.HBox([duplicates_tab, questions_tab], layout=layout)\n",
    "    return duplicates_map_inner, questions_map_inner, duplicates_questions_inner"
   ]
  },
  {
   "cell_type": "markdown",
   "metadata": {
    "extensions": {
     "jupyter_dashboards": {
      "version": 1,
      "views": {
       "grid_default": {},
       "report_default": {
        "hidden": true
       }
      }
     }
    }
   },
   "source": [
    "A handler function for a question passage button press. If the passage's text window is open, it is collapsed. \n",
    "Otherwise, it is opened."
   ]
  },
  {
   "cell_type": "code",
   "execution_count": null,
   "metadata": {
    "extensions": {
     "jupyter_dashboards": {
      "version": 1,
      "views": {
       "grid_default": {},
       "report_default": {
        "hidden": true
       }
      }
     }
    }
   },
   "outputs": [],
   "source": [
    "def questions_click(button):\n",
    "    \"\"\"Respond to a click on a question button.\"\"\"\n",
    "    global questions_map\n",
    "    if button.open:\n",
    "        questions_map[button.description].rows = None\n",
    "        button.open = False\n",
    "    else:\n",
    "        questions_map[button.description].rows = 10\n",
    "        button.open = True"
   ]
  },
  {
   "cell_type": "markdown",
   "metadata": {
    "extensions": {
     "jupyter_dashboards": {
      "version": 1,
      "views": {
       "grid_default": {},
       "report_default": {
        "hidden": true
       }
      }
     }
    }
   },
   "source": [
    "A handler function for a duplicate obligation button press. If the obligation is not selected, select it and update \n",
    "the questions tab with its top 15 question passages ordered by match score. Otherwise, if the duplicate's text window \n",
    "is open, it is collapsed, else it is opened."
   ]
  },
  {
   "cell_type": "code",
   "execution_count": null,
   "metadata": {
    "extensions": {
     "jupyter_dashboards": {
      "version": 1,
      "views": {
       "grid_default": {},
       "report_default": {
        "hidden": true
       }
      }
     }
    }
   },
   "outputs": [],
   "source": [
    "def duplicates_click(button):\n",
    "    \"\"\"Respond to a click on a duplicate button.\"\"\"\n",
    "    global duplicates_map\n",
    "    if select_duplicate(button):\n",
    "        duplicates_map[button.description].rows = 10\n",
    "        button.open = True\n",
    "    else:\n",
    "        if button.open:\n",
    "            duplicates_map[button.description].rows = None\n",
    "            button.open = False\n",
    "        else:\n",
    "            duplicates_map[button.description].rows = 10\n",
    "            button.open = True\n",
    "\n",
    "\n",
    "def select_duplicate(button):\n",
    "    \"\"\"Update the displayed questions to correspond to the button's duplicate\n",
    "    selections. Returns whether or not the selected duplicate changed.\n",
    "    \"\"\"\n",
    "    global selected_button, questions_map, duplicates_questions\n",
    "    if \"selected_button\" not in globals() or button != selected_button:\n",
    "        if \"selected_button\" in globals():\n",
    "            selected_button.style.button_color = None\n",
    "            selected_button.style.font_weight = \"\"\n",
    "        selected_button = button\n",
    "        selected_button.style.button_color = \"yellow\"\n",
    "        selected_button.style.font_weight = \"bold\"\n",
    "        duplicates_text = duplicates_map[selected_button.description].value\n",
    "        questions_scores = score_text(duplicates_text)\n",
    "        ordered_questions = questions.loc[questions_scores[questions_id]]\n",
    "        questions_items, questions_map = buttons_and_texts(\n",
    "            ordered_questions,\n",
    "            questions_id,\n",
    "            questions_answerid,\n",
    "            questions_text,\n",
    "            questions_click\n",
    "        )\n",
    "        if questions_button_color is True and selected_button.answerid is not None:\n",
    "            set_button_color(questions_items[::2], selected_button.answerid)\n",
    "        if questions_button_score is True:\n",
    "            questions_items = [\n",
    "                item for button, text_area in zip(*[iter(questions_items)] * 2)\n",
    "                for item in (add_button_prob(button, questions_scores),\n",
    "                             text_area)\n",
    "            ]\n",
    "        duplicates_questions.children[1].children[0].children = questions_items\n",
    "        duplicates_questions.children[1].set_title(0,\n",
    "                                                   selected_button.description)\n",
    "        return True\n",
    "    return False\n",
    "\n",
    "\n",
    "def add_button_prob(button, questions_scores):\n",
    "    \"\"\"Return an HBox containing button and its probability.\"\"\"\n",
    "    button_id = button.description\n",
    "    prob = widgets.Label(score_label + \": \" + str(\n",
    "        int(\n",
    "            math.ceil(score_scale *\n",
    "                      questions_scores.loc[button_id][questions_probability]))))\n",
    "    return widgets.HBox([button, prob])\n",
    "\n",
    "\n",
    "def set_button_color(button, answerid):\n",
    "    \"\"\"Set each button's color according to its label.\"\"\"\n",
    "    for a_button in button:\n",
    "        a_button.style.button_color = (\"lightgreen\" if a_button.answerid == answerid else None)"
   ]
  },
  {
   "cell_type": "markdown",
   "metadata": {},
   "source": [
    "Functions for interacting with the web service."
   ]
  },
  {
   "cell_type": "code",
   "execution_count": null,
   "metadata": {},
   "outputs": [],
   "source": [
    "def score_text(text):\n",
    "    \"\"\"Return a data frame with the original question scores for the text.\"\"\"\n",
    "    headers = {\n",
    "        \"content-type\": \"application/json\",\n",
    "        \"Authorization\": (\"Bearer \" + api_key),\n",
    "    }\n",
    "    jsontext = text_to_json(text)\n",
    "    result = requests.post(scoring_url, data=jsontext, headers=headers)\n",
    "    scores = result.json()\n",
    "    scores_df = pd.DataFrame(\n",
    "        scores,\n",
    "        columns=[questions_id, questions_answerid, questions_probability])\n",
    "    scores_df[questions_id] = scores_df[questions_id].astype(str)\n",
    "    scores_df[questions_answerid] = scores_df[questions_answerid].astype(str)\n",
    "    scores_df = scores_df.set_index(questions_id, drop=False)\n",
    "    return scores_df"
   ]
  },
  {
   "cell_type": "markdown",
   "metadata": {
    "extensions": {
     "jupyter_dashboards": {
      "version": 1,
      "views": {
       "grid_default": {},
       "report_default": {
        "hidden": true
       }
      }
     }
    }
   },
   "source": [
    "Control the appearance of cell output boxes."
   ]
  },
  {
   "cell_type": "code",
   "execution_count": null,
   "metadata": {
    "extensions": {
     "jupyter_dashboards": {
      "version": 1,
      "views": {
       "grid_default": {},
       "report_default": {
        "hidden": true
       }
      }
     }
    }
   },
   "outputs": [],
   "source": [
    "%%html\n",
    "<style>\n",
    ".output_wrapper, .output {\n",
    "    height:auto !important;\n",
    "    max-height:1000px;  /* your desired max-height here */\n",
    "}\n",
    ".output_scroll {\n",
    "    box-shadow:none !important;\n",
    "    webkit-box-shadow:none !important;\n",
    "}\n",
    "</style>"
   ]
  },
  {
   "cell_type": "markdown",
   "metadata": {
    "extensions": {
     "jupyter_dashboards": {
      "version": 1,
      "views": {
       "grid_default": {},
       "report_default": {
        "hidden": true
       }
      }
     }
    }
   },
   "source": [
    "## Load data\n",
    "\n",
    "Load the pre-formatted text of questions."
   ]
  },
  {
   "cell_type": "code",
   "execution_count": null,
   "metadata": {
    "extensions": {
     "jupyter_dashboards": {
      "version": 1,
      "views": {
       "grid_default": {},
       "report_default": {
        "hidden": true
       }
      }
     }
    }
   },
   "outputs": [],
   "source": [
    "questions_title = 'Questions'\n",
    "questions_id = 'Id'\n",
    "questions_answerid = 'AnswerId'\n",
    "questions_text = 'Text'\n",
    "questions_probability = 'Probability'\n",
    "questions_path = directory + '/data_folder/questions.tsv'\n",
    "questions = read_questions(questions_path, questions_id, questions_answerid)"
   ]
  },
  {
   "cell_type": "markdown",
   "metadata": {
    "extensions": {
     "jupyter_dashboards": {
      "version": 1,
      "views": {
       "grid_default": {},
       "report_default": {
        "hidden": true
       }
      }
     }
    }
   },
   "source": [
    "Load the pre-formatted text of duplicates."
   ]
  },
  {
   "cell_type": "code",
   "execution_count": null,
   "metadata": {
    "extensions": {
     "jupyter_dashboards": {
      "version": 1,
      "views": {
       "grid_default": {},
       "report_default": {
        "hidden": true
       }
      }
     }
    }
   },
   "outputs": [],
   "source": [
    "duplicates_title = 'Duplicates'\n",
    "duplicates_id = 'Id'\n",
    "duplicates_answerid = 'AnswerId'\n",
    "duplicates_path = directory + '/data_folder/dupes_test.tsv'\n",
    "duplicates = read_questions(duplicates_path, duplicates_id, duplicates_answerid)"
   ]
  },
  {
   "cell_type": "markdown",
   "metadata": {
    "extensions": {
     "jupyter_dashboards": {
      "version": 1,
      "views": {
       "grid_default": {},
       "report_default": {
        "hidden": false
       }
      }
     }
    }
   },
   "source": [
    "## Explore original questions matched up with duplicate questions\n",
    "\n",
    "Define other variables and settings used in creating the interface."
   ]
  },
  {
   "cell_type": "code",
   "execution_count": null,
   "metadata": {
    "extensions": {
     "jupyter_dashboards": {
      "version": 1,
      "views": {
       "grid_default": {},
       "report_default": {
        "hidden": true
       }
      }
     }
    }
   },
   "outputs": [],
   "source": [
    "questions_display = 15\n",
    "questions_button_color = True\n",
    "questions_button_score = True\n",
    "score_label = 'Score'\n",
    "score_scale = 100"
   ]
  },
  {
   "cell_type": "markdown",
   "metadata": {
    "extensions": {
     "jupyter_dashboards": {
      "version": 1,
      "views": {
       "grid_default": {},
       "report_default": {
        "hidden": true
       }
      }
     }
    }
   },
   "source": [
    "This builds the exploration widget as a box containing duplicates and question tabs, each in turn containing boxes \n",
    "that have for each ID-text pair a button and a text area."
   ]
  },
  {
   "cell_type": "code",
   "execution_count": null,
   "metadata": {
    "extensions": {
     "jupyter_dashboards": {
      "version": 1,
      "views": {
       "grid_default": {},
       "report_default": {
        "hidden": false
       }
      }
     }
    }
   },
   "outputs": [],
   "source": [
    "duplicates_map, questions_map, duplicates_questions = duplicates_questions_widget(duplicates, questions)\n",
    "duplicates_questions"
   ]
  },
  {
   "cell_type": "markdown",
   "metadata": {},
   "source": [
    "To tear down the cluster and related resources go to the [last notebook](08_TearDown.ipynb)."
   ]
  }
 ],
 "metadata": {
  "extensions": {
   "jupyter_dashboards": {
    "activeView": "report_default",
    "version": 1,
    "views": {
     "grid_default": {
      "name": "grid",
      "type": "grid"
     },
     "report_default": {
      "name": "report",
      "type": "report"
     }
    }
   }
  },
  "kernelspec": {
   "display_name": "az-ml-realtime-score",
   "language": "python",
   "name": "conda-env-az-ml-realtime-score-py"
  },
  "language_info": {
   "codemirror_mode": {
    "name": "ipython",
    "version": 3
   },
   "file_extension": ".py",
   "mimetype": "text/x-python",
   "name": "python",
   "nbconvert_exporter": "python",
   "pygments_lexer": "ipython3",
   "version": "3.6.2"
  },
  "pycharm": {
   "stem_cell": {
    "cell_type": "raw",
    "metadata": {
     "collapsed": false
    },
    "source": []
   }
  }
 },
 "nbformat": 4,
 "nbformat_minor": 2
}
