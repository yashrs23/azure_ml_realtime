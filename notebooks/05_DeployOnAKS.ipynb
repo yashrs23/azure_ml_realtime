{
 "cells": [
  {
   "cell_type": "markdown",
   "metadata": {},
   "source": [
    "Copyright (c) Microsoft Corporation. All rights reserved.\n",
    "\n",
    "Licensed under the MIT License."
   ]
  },
  {
   "cell_type": "markdown",
   "metadata": {},
   "source": [
    "# Deploying a web service to Azure Kubernetes Service (AKS)\n",
    "In this notebook, we show the following steps for deploying a web service using AzureML:\n",
    "- Provision an AKS cluster (one time action)\n",
    "- Deploy the service\n",
    "- Test the web service\n",
    "- Scale up the service"
   ]
  },
  {
   "cell_type": "code",
   "execution_count": 1,
   "metadata": {
    "pycharm": {
     "name": "#%%\n"
    }
   },
   "outputs": [
    {
     "name": "stderr",
     "output_type": "stream",
     "text": [
      "Warning: Falling back to use azure cli login credentials.\n",
      "If you run your code in unattended mode, i.e., where you can't give a user input, then we recommend to use ServicePrincipalAuthentication or MsiAuthentication.\n",
      "Please refer to aka.ms/aml-notebook-auth for different authentication mechanisms in azureml-sdk.\n"
     ]
    }
   ],
   "source": [
    "from azure_utils.machine_learning.realtime.kubernetes import get_or_create_service"
   ]
  },
  {
   "cell_type": "markdown",
   "metadata": {},
   "source": [
    "AML will use the following information to create an image, provision a cluster and deploy a service. Replace the \n",
    "values in the following cell with your information."
   ]
  },
  {
   "cell_type": "code",
   "execution_count": 14,
   "metadata": {},
   "outputs": [],
   "source": [
    "??get_or_create_service"
   ]
  },
  {
   "cell_type": "code",
   "execution_count": null,
   "metadata": {
    "pycharm": {
     "name": "#%%\n"
    }
   },
   "outputs": [],
   "source": [
    "aks_service = get_or_create_aks_service()\n"
   ]
  },
  {
   "cell_type": "code",
   "execution_count": 4,
   "metadata": {},
   "outputs": [],
   "source": [
    "from azureml.core.authentication import MsiAuthentication\n",
    "from azureml.core import Workspace\n",
    "\n",
    "msi_auth = MsiAuthentication()\n",
    "ws = Workspace(subscription_id=\"109e56d8-d599-4905-ab89-be3f6c7e1662\",\n",
    "               resource_group=\"trial2\",\n",
    "               workspace_name=\"experiment2ml\",\n",
    "               auth=msi_auth)"
   ]
  },
  {
   "cell_type": "code",
   "execution_count": 7,
   "metadata": {},
   "outputs": [],
   "source": [
    "from azureml.core.compute import AksCompute, ComputeTarget\n",
    "\n",
    "# Use the default configuration (you can also provide parameters to customize this).\n",
    "# For example, to create a dev/test cluster, use:\n",
    "prov_config = AksCompute.provisioning_configuration(cluster_purpose = AksCompute.ClusterPurpose.DEV_TEST)\n",
    "#prov_config = AksCompute.provisioning_configuration(cluster_purpose = AksCompute.ClusterPurpose.DEV_TEST)\n",
    "\n",
    "aks_name = 'myaks2'\n",
    "# Create the cluster\n",
    "# aks_target = ComputeTarget.create(workspace = ws,\n",
    "#                                     name = aks_name,\n",
    "#                                     provisioning_configuration = prov_config)\n",
    "aks_target = ComputeTarget(workspace = ws,name = aks_name)\n",
    "# Wait for the create process to complete\n",
    "#aks_target.wait_for_completion(show_output = True)"
   ]
  },
  {
   "cell_type": "code",
   "execution_count": 2,
   "metadata": {},
   "outputs": [],
   "source": [
    "??get_or_create_service"
   ]
  },
  {
   "cell_type": "code",
   "execution_count": 3,
   "metadata": {},
   "outputs": [],
   "source": [
    "from azureml.core.authentication import MsiAuthentication\n",
    "from azureml.core import Workspace\n",
    "from azureml.core.webservice import AksWebservice, Webservice\n",
    "from azureml.core.image import Image\n",
    "msi_auth = MsiAuthentication()\n",
    "ws = Workspace(subscription_id=\"109e56d8-d599-4905-ab89-be3f6c7e1662\",\n",
    "               resource_group=\"trial2\",\n",
    "               workspace_name=\"experiment2ml\",\n",
    "               auth=msi_auth)\n"
   ]
  },
  {
   "cell_type": "code",
   "execution_count": 10,
   "metadata": {},
   "outputs": [],
   "source": [
    "from azureml.core.compute import AksCompute, ComputeTarget\n",
    "aks_target = AksCompute(ws,\"myaks2\")"
   ]
  },
  {
   "cell_type": "code",
   "execution_count": 14,
   "metadata": {},
   "outputs": [
    {
     "name": "stderr",
     "output_type": "stream",
     "text": [
      "/anaconda/envs/az-ml-realtime-score/lib/python3.6/site-packages/ipykernel_launcher.py:3: DeprecationWarning: deploy_from_image has been deprecated and will be removed in a future release. Please migrate to using Environments. https://docs.microsoft.com/en-us/azure/machine-learning/how-to-use-environments\n",
      "  This is separate from the ipykernel package so we can avoid doing imports until\n"
     ]
    },
    {
     "ename": "NameError",
     "evalue": "name 'show_output' is not defined",
     "output_type": "error",
     "traceback": [
      "\u001b[0;31m---------------------------------------------------------------------------\u001b[0m",
      "\u001b[0;31mNameError\u001b[0m                                 Traceback (most recent call last)",
      "\u001b[0;32m<ipython-input-14-8257b04af606>\u001b[0m in \u001b[0;36m<module>\u001b[0;34m\u001b[0m\n\u001b[1;32m      2\u001b[0m \u001b[0mimage\u001b[0m \u001b[0;34m=\u001b[0m \u001b[0mws\u001b[0m\u001b[0;34m.\u001b[0m\u001b[0mimages\u001b[0m\u001b[0;34m[\u001b[0m\u001b[0;34m\"imageml5\"\u001b[0m\u001b[0;34m]\u001b[0m\u001b[0;34m\u001b[0m\u001b[0m\n\u001b[1;32m      3\u001b[0m \u001b[0maks_service\u001b[0m \u001b[0;34m=\u001b[0m \u001b[0mWebservice\u001b[0m\u001b[0;34m.\u001b[0m\u001b[0mdeploy_from_image\u001b[0m\u001b[0;34m(\u001b[0m\u001b[0mworkspace\u001b[0m\u001b[0;34m=\u001b[0m\u001b[0mws\u001b[0m\u001b[0;34m,\u001b[0m \u001b[0mname\u001b[0m\u001b[0;34m=\u001b[0m\u001b[0;34m\"aksservice\"\u001b[0m\u001b[0;34m,\u001b[0m \u001b[0mimage\u001b[0m\u001b[0;34m=\u001b[0m\u001b[0mimage\u001b[0m\u001b[0;34m,\u001b[0m\u001b[0mdeployment_config\u001b[0m\u001b[0;34m=\u001b[0m\u001b[0maks_config\u001b[0m\u001b[0;34m,\u001b[0m \u001b[0mdeployment_target\u001b[0m\u001b[0;34m=\u001b[0m\u001b[0maks_target\u001b[0m\u001b[0;34m)\u001b[0m\u001b[0;34m\u001b[0m\u001b[0m\n\u001b[0;32m----> 4\u001b[0;31m \u001b[0maks_service\u001b[0m\u001b[0;34m.\u001b[0m\u001b[0mwait_for_deployment\u001b[0m\u001b[0;34m(\u001b[0m\u001b[0mshow_output\u001b[0m\u001b[0;34m=\u001b[0m\u001b[0mshow_output\u001b[0m\u001b[0;34m)\u001b[0m\u001b[0;34m\u001b[0m\u001b[0m\n\u001b[0m",
      "\u001b[0;31mNameError\u001b[0m: name 'show_output' is not defined"
     ]
    }
   ],
   "source": [
    "aks_config = AksWebservice.deploy_configuration(num_replicas=2, cpu_cores=1)\n",
    "image = ws.images[\"imageml5\"]\n",
    "aks_service = Webservice.deploy_from_image(workspace=ws, name=\"aksservice\", image=image,deployment_config=aks_config, deployment_target=aks_target)\n",
    "aks_service.wait_for_deployment(show_output=True)"
   ]
  },
  {
   "cell_type": "code",
   "execution_count": 15,
   "metadata": {},
   "outputs": [
    {
     "name": "stdout",
     "output_type": "stream",
     "text": [
      "Running..................\n",
      "Succeeded\n",
      "AKS service creation operation finished, operation \"Succeeded\"\n"
     ]
    }
   ],
   "source": [
    "aks_service.wait_for_deployment(show_output=True)"
   ]
  },
  {
   "cell_type": "code",
   "execution_count": null,
   "metadata": {},
   "outputs": [],
   "source": [
    "def get_or_create_service(configuration_file: str = project_configuration_file, aks_target=None, num_replicas: int = 2,\n",
    "                          cpu_cores: int = 1, show_output: bool = True) -> AksWebservice:\n",
    "    \"\"\"\n",
    "    Get or Create new Machine Learning Webservice\n",
    "\n",
    "    :param configuration_file: Project configuration settings file. default: project.yml\n",
    "    :param aks_target: Kubernetes compute to target for deployment\n",
    "    :param num_replicas: number of replicas in Kubernetes cluster. default: 2\n",
    "    :param cpu_cores: cpu cores for web service. default: 1\n",
    "    :param show_output: toggle on/off standard output. default: `True`\n",
    "    :return: New or Existing Kubernetes Web Service\n",
    "    \"\"\"\n",
    "    project_configuration = ProjectConfiguration(configuration_file)\n",
    "    assert project_configuration.has_settings(\"aks_service_name\")\n",
    "    assert project_configuration.has_settings(\"image_name\")\n",
    "\n",
    "    aks_service_name = project_configuration.get_value(\"aks_service_name\")\n",
    "    image_name = project_configuration.get_value(\"image_name\")\n",
    "\n",
    "    workspace = get_or_create_workspace_from_project(project_configuration, show_output=show_output)\n",
    "\n",
    "    if aks_service_name in workspace.webservices:\n",
    "        return workspace.webservices[aks_service_name]\n",
    "\n",
    "    aks_config = AksWebservice.deploy_configuration(num_replicas=num_replicas, cpu_cores=cpu_cores)\n",
    "\n",
    "    assert workspace.images[image_name]\n",
    "    image = workspace.images[image_name]\n",
    "\n",
    "    deploy_from_image_start = time.time()\n",
    "    aks_service = Webservice.deploy_from_image(workspace=workspace, name=aks_service_name, image=image,\n",
    "                                               deployment_config=aks_config, deployment_target=aks_target)\n",
    "    aks_service.wait_for_deployment(show_output=show_output)\n",
    "    if show_output:\n",
    "        deployment_time_secs = str(time.time() - deploy_from_image_start)\n",
    "        print(\"Deployed Image with name \"\n",
    "              + aks_service_name + \". Took \" + deployment_time_secs + \" seconds.\")\n",
    "        print(aks_service.state)\n",
    "        print(aks_service.get_logs())\n",
    "    return aks_service"
   ]
  },
  {
   "cell_type": "markdown",
   "metadata": {},
   "source": [
    "Next, we will test the [throughput of the web service](06_SpeedTestWebApp.ipynb)."
   ]
  }
 ],
 "metadata": {
  "authors": [
   {
    "name": "raymondl"
   }
  ],
  "celltoolbar": "Tags",
  "kernelspec": {
   "display_name": "az-ml-realtime-score",
   "language": "python",
   "name": "conda-env-az-ml-realtime-score-py"
  },
  "language_info": {
   "codemirror_mode": {
    "name": "ipython",
    "version": 3
   },
   "file_extension": ".py",
   "mimetype": "text/x-python",
   "name": "python",
   "nbconvert_exporter": "python",
   "pygments_lexer": "ipython3",
   "version": "3.6.2"
  },
  "pycharm": {
   "stem_cell": {
    "cell_type": "raw",
    "metadata": {
     "collapsed": false
    },
    "source": []
   }
  }
 },
 "nbformat": 4,
 "nbformat_minor": 2
}
