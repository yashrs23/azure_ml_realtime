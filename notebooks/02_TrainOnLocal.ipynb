{
 "cells": [
  {
   "cell_type": "markdown",
   "metadata": {},
   "source": [
    "Copyright (c) Microsoft Corporation. All rights reserved.\n",
    "\n",
    "Licensed under the MIT License.\n",
    "\n",
    "# Train Locally\n",
    "In this notebook, you will perform the following using Azure Machine Learning.\n",
    "* Load workspace.\n",
    "* Configure & execute a local run in a user-managed Python environment.\n",
    "* Configure & execute a local run in a system-managed Python environment.\n",
    "* Configure & execute a local run in a Docker environment.\n",
    "* Register model for operationalization."
   ]
  },
  {
   "cell_type": "code",
   "execution_count": 1,
   "metadata": {},
   "outputs": [
    {
     "name": "stdout",
     "output_type": "stream",
     "text": [
      "riversand pts/0        Apr 15 12:50 (122.181.197.82)\r\n"
     ]
    }
   ],
   "source": [
    "!who"
   ]
  },
  {
   "cell_type": "code",
   "execution_count": 1,
   "metadata": {
    "pycharm": {
     "is_executing": false,
     "name": "#%%\n"
    }
   },
   "outputs": [
    {
     "name": "stderr",
     "output_type": "stream",
     "text": [
      "Warning: Falling back to use azure cli login credentials.\n",
      "If you run your code in unattended mode, i.e., where you can't give a user input, then we recommend to use ServicePrincipalAuthentication or MsiAuthentication.\n",
      "Please refer to aka.ms/aml-notebook-auth for different authentication mechanisms in azureml-sdk.\n"
     ]
    }
   ],
   "source": [
    "import os\n",
    "\n",
    "from azure_utils.machine_learning.utils import get_workspace_from_config\n",
    "from azureml.core import Experiment\n",
    "from azureml.core import ScriptRunConfig\n",
    "from azureml.core.runconfig import RunConfiguration\n",
    "\n",
    "#from notebooks import directory"
   ]
  },
  {
   "cell_type": "markdown",
   "metadata": {},
   "source": [
    "## Initialize Model Hyperparameters\n",
    "\n",
    "This notebook uses a training script that uses \n",
    "[lightgbm](https://lightgbm.readthedocs.io/en/latest/Python-API.html#scikit-learn-api). \n",
    "Here we set the number of estimators. "
   ]
  },
  {
   "cell_type": "code",
   "execution_count": 2,
   "metadata": {},
   "outputs": [],
   "source": [
    "directory=\"/home/riversand/notebooks/az-ml-realtime-score/notebooks\""
   ]
  },
  {
   "cell_type": "code",
   "execution_count": 3,
   "metadata": {
    "pycharm": {
     "is_executing": false,
     "name": "#%%\n"
    }
   },
   "outputs": [],
   "source": [
    "num_estimators = \"10\""
   ]
  },
  {
   "cell_type": "markdown",
   "metadata": {},
   "source": [
    "## Initialize Workspace\n",
    "\n",
    "Initialize a workspace object from persisted configuration file."
   ]
  },
  {
   "cell_type": "code",
   "execution_count": 6,
   "metadata": {
    "pycharm": {
     "is_executing": false,
     "name": "#%%\n"
    }
   },
   "outputs": [
    {
     "name": "stdout",
     "output_type": "stream",
     "text": [
      "experiment2ml\n",
      "trial2\n",
      "eastus\n"
     ]
    }
   ],
   "source": [
    "#ws = get_workspace_from_config()\n",
    "from azureml.core.authentication import MsiAuthentication\n",
    "from azureml.core import Workspace\n",
    "\n",
    "msi_auth = MsiAuthentication()\n",
    "ws = Workspace(subscription_id=\"109e56d8-d599-4905-ab89-be3f6c7e1662\",\n",
    "               resource_group=\"trial2\",\n",
    "               workspace_name=\"experiment2ml\",\n",
    "               auth=msi_auth)\n",
    "print(ws.name, ws.resource_group, ws.location, sep=\"\\n\")"
   ]
  },
  {
   "cell_type": "markdown",
   "metadata": {},
   "source": [
    "## Create An Experiment\n",
    "**Experiment** is a logical container in an Azure ML Workspace. It hosts run records which can include run metrics \n",
    "and output artifacts from your experiments."
   ]
  },
  {
   "cell_type": "code",
   "execution_count": 7,
   "metadata": {
    "pycharm": {
     "is_executing": false,
     "name": "#%%\n"
    }
   },
   "outputs": [],
   "source": [
    "experiment_name = \"mlaks-train-on-local\"\n",
    "exp = Experiment(workspace=ws, name=experiment_name)"
   ]
  },
  {
   "cell_type": "markdown",
   "metadata": {},
   "source": [
    "## Configure & Run\n",
    "\n",
    "In this section, we show three different ways of locally training your model through Azure ML SDK for demonstration \n",
    "purposes. Only one of these runs is sufficient to register the model.\n",
    "\n",
    "\n",
    "### User-managed environment\n",
    "Below, we use a user-managed run, which means you are responsible to ensure all the necessary packages that are \n",
    "available in the Python environment you choose to run the script. We will use the environment created for this \n",
    "tutorial which has Azure ML SDK and other dependencies installed."
   ]
  },
  {
   "cell_type": "code",
   "execution_count": 8,
   "metadata": {
    "pycharm": {
     "is_executing": false,
     "name": "#%%\n"
    }
   },
   "outputs": [],
   "source": [
    "# Editing a run configuration property on-fly.\n",
    "run_config_user_managed = RunConfiguration()\n",
    "\n",
    "run_config_user_managed.environment.python.user_managed_dependencies = True\n",
    "\n",
    "# Choose the specific Python environment of this tutorial by pointing to the Python path\n",
    "run_config_user_managed.environment.python.interpreter_path = \"/anaconda/envs/az-ml-realtime-score/bin/python\"\n"
   ]
  },
  {
   "cell_type": "markdown",
   "metadata": {},
   "source": [
    "#### Submit script to run in the user-managed environment\n",
    "Note that the whole `scripts` folder is submitted for execution, including the `item_selector.py` and `label_rank.py` \n",
    "files. The model will be written to `outputs` directory which is a special directory such that all content in this \n",
    "directory is automatically uploaded to your workspace. "
   ]
  },
  {
   "cell_type": "code",
   "execution_count": 10,
   "metadata": {
    "pycharm": {
     "is_executing": false,
     "name": "#%%\n"
    }
   },
   "outputs": [],
   "source": [
    "if not os.path.isdir(\"script\"):\n",
    "    os.mkdir(\"script\")"
   ]
  },
  {
   "cell_type": "code",
   "execution_count": 11,
   "metadata": {
    "pycharm": {
     "is_executing": false,
     "name": "#%%\n"
    }
   },
   "outputs": [
    {
     "name": "stdout",
     "output_type": "stream",
     "text": [
      "Writing script/create_model.py\n"
     ]
    }
   ],
   "source": [
    "%%writefile script/create_model.py\n",
    "from azure_utils.machine_learning import create_model\n",
    "\n",
    "if __name__ == '__main__':\n",
    "    create_model.main()\n"
   ]
  },
  {
   "cell_type": "code",
   "execution_count": 12,
   "metadata": {
    "pycharm": {
     "is_executing": false,
     "name": "#%%\n"
    }
   },
   "outputs": [],
   "source": [
    "script = \"create_model.py\"\n",
    "args = [\n",
    "    \"--inputs\",\n",
    "    os.path.abspath(directory + \"/data_folder\"),\n",
    "    \"--outputs\",\n",
    "    \"outputs\",\n",
    "    \"--estimators\",\n",
    "    num_estimators,\n",
    "    \"--match\",\n",
    "    \"5\",\n",
    "]"
   ]
  },
  {
   "cell_type": "code",
   "execution_count": 13,
   "metadata": {
    "pycharm": {
     "is_executing": false,
     "name": "#%%\n"
    }
   },
   "outputs": [
    {
     "name": "stdout",
     "output_type": "stream",
     "text": [
      "RunId: mlaks-train-on-local_1586860619_26212aa8\n",
      "Web View: https://ml.azure.com/experiments/mlaks-train-on-local/runs/mlaks-train-on-local_1586860619_26212aa8?wsid=/subscriptions/109e56d8-d599-4905-ab89-be3f6c7e1662/resourcegroups/trial2/workspaces/experiment2ml\n",
      "\n",
      "Streaming azureml-logs/60_control_log.txt\n",
      "=========================================\n",
      "\n",
      "Streaming log file azureml-logs/60_control_log.txt\n",
      "Running: ['/bin/bash', '/tmp/azureml_runs/mlaks-train-on-local_1586860619_26212aa8/azureml-environment-setup/conda_env_checker.sh']\n",
      "\n",
      "Streaming azureml-logs/70_driver_log.txt\n",
      "========================================\n",
      "\n",
      "Starting the daemon thread to refresh tokens in background for process with pid = 11468\n",
      "Entering Run History Context Manager.\n",
      "Preparing to call script [ create_model.py ] with arguments: ['--inputs', '/home/riversand/notebooks/az-ml-realtime-score/notebooks/data_folder', '--outputs', 'outputs', '--estimators', '10', '--match', '5']\n",
      "After variable expansion, calling script [ create_model.py ] with arguments: ['--inputs', '/home/riversand/notebooks/az-ml-realtime-score/notebooks/data_folder', '--outputs', 'outputs', '--estimators', '10', '--match', '5']\n",
      "\n",
      "/anaconda/envs/az-ml-realtime-score/lib/python3.6/site-packages/sklearn/externals/joblib/__init__.py:15: FutureWarning: sklearn.externals.joblib is deprecated in 0.21 and will be removed in 0.23. Please import this functionality directly from joblib, which can be installed with: pip install joblib. If this warning is raised when loading pickled models, you may need to re-serialize those models with scikit-learn 0.21+.\n",
      "  warnings.warn(msg, category=FutureWarning)\n",
      "Reading /home/riversand/notebooks/az-ml-realtime-score/notebooks/data_folder/balanced_pairs_train.tsv\n",
      "train: 33,125 rows with 20.00% matches\n",
      "Training...\n",
      "outputs/model.pkl size: 1.51 MB\n",
      "Reading /home/riversand/notebooks/az-ml-realtime-score/notebooks/data_folder/balanced_pairs_test.tsv\n",
      "test: 297,570 rows with 0.55% matches\n",
      "Testing...\n",
      "Accuracy @1 = 0.00%\n",
      "Accuracy @2 = 24.04%\n",
      "Accuracy @3 = 33.27%\n",
      "Mean Rank 26.6401\n",
      "\n",
      "\n",
      "The experiment completed successfully. Finalizing run...\n",
      "Logging experiment finalizing status in history service.\n",
      "Starting the daemon thread to refresh tokens in background for process with pid = 11468\n",
      "Cleaning up all outstanding Run operations, waiting 300.0 seconds\n",
      "2 items cleaning up...\n",
      "Cleanup took 0.0009469985961914062 seconds\n",
      "\n",
      "Execution Summary\n",
      "=================\n",
      "RunId: mlaks-train-on-local_1586860619_26212aa8\n",
      "Web View: https://ml.azure.com/experiments/mlaks-train-on-local/runs/mlaks-train-on-local_1586860619_26212aa8?wsid=/subscriptions/109e56d8-d599-4905-ab89-be3f6c7e1662/resourcegroups/trial2/workspaces/experiment2ml\n",
      "\n"
     ]
    },
    {
     "data": {
      "text/plain": [
       "{'Accuracy @1': 0.0,\n",
       " 'Accuracy @2': 0.24036697247706423,\n",
       " 'Accuracy @3': 0.3327217125382263,\n",
       " 'Mean Rank': 26.640061162079512}"
      ]
     },
     "execution_count": 13,
     "metadata": {},
     "output_type": "execute_result"
    }
   ],
   "source": [
    "src = ScriptRunConfig(\n",
    "    source_directory=\"./script\",\n",
    "    script=script,\n",
    "    arguments=args,\n",
    "    run_config=run_config_user_managed,\n",
    ")\n",
    "\n",
    "run = exp.submit(src)    \n",
    "run.wait_for_completion(show_output=True)\n",
    "run.get_file_names()\n",
    "run.get_metrics()"
   ]
  },
  {
   "cell_type": "markdown",
   "metadata": {},
   "source": [
    "## Register Model"
   ]
  },
  {
   "cell_type": "code",
   "execution_count": 14,
   "metadata": {
    "pycharm": {
     "is_executing": false,
     "name": "#%%\n"
    }
   },
   "outputs": [
    {
     "data": {
      "text/plain": [
       "{'Accuracy @1': 0.0,\n",
       " 'Accuracy @2': 0.24036697247706423,\n",
       " 'Accuracy @3': 0.3327217125382263,\n",
       " 'Mean Rank': 26.640061162079512}"
      ]
     },
     "execution_count": 14,
     "metadata": {},
     "output_type": "execute_result"
    }
   ],
   "source": [
    "run.get_metrics()"
   ]
  },
  {
   "cell_type": "markdown",
   "metadata": {},
   "source": [
    "## Register Model\n",
    "\n",
    "We now register the model with the workspace so that we can later deploy the model."
   ]
  },
  {
   "cell_type": "code",
   "execution_count": 15,
   "metadata": {
    "pycharm": {
     "is_executing": false,
     "name": "#%%\n"
    }
   },
   "outputs": [],
   "source": [
    "# supply a model name, and the full path to the serialized model file.\n",
    "model = run.register_model(model_name=\"question_match_model\", model_path=\"./outputs/model.pkl\")"
   ]
  },
  {
   "cell_type": "code",
   "execution_count": 16,
   "metadata": {
    "pycharm": {
     "is_executing": false,
     "name": "#%%\n"
    }
   },
   "outputs": [
    {
     "name": "stdout",
     "output_type": "stream",
     "text": [
      "question_match_model\n",
      "1\n",
      "aml://asset/db6729f4e7e742408d8cf72f3f6f16df\n"
     ]
    }
   ],
   "source": [
    "print(model.name, model.version, model.url, sep=\"\\n\")"
   ]
  },
  {
   "cell_type": "markdown",
   "metadata": {},
   "source": [
    "We can now move on to [Develop Scoring Script](03_DevelopScoringScript.ipynb) notebook to train our model\n",
    "using Azure Machine Learning."
   ]
  }
 ],
 "metadata": {
  "authors": [
   {
    "name": "roastala"
   }
  ],
  "kernelspec": {
   "display_name": "az-ml-realtime-score",
   "language": "python",
   "name": "conda-env-az-ml-realtime-score-py"
  },
  "language_info": {
   "codemirror_mode": {
    "name": "ipython",
    "version": 3
   },
   "file_extension": ".py",
   "mimetype": "text/x-python",
   "name": "python",
   "nbconvert_exporter": "python",
   "pygments_lexer": "ipython3",
   "version": "3.6.2"
  },
  "pycharm": {
   "stem_cell": {
    "cell_type": "raw",
    "metadata": {
     "collapsed": false
    },
    "source": []
   }
  }
 },
 "nbformat": 4,
 "nbformat_minor": 2
}
